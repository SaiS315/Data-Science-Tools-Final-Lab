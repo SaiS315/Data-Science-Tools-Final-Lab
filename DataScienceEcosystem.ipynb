{
 "cells": [
  {
   "cell_type": "markdown",
   "id": "cec183de-3dd6-4a55-937e-279bcbe69dca",
   "metadata": {},
   "source": [
    "# Data Science Tools and Ecosystems"
   ]
  },
  {
   "cell_type": "markdown",
   "id": "725a0fc4-73ad-4eb4-ab49-de18c80285b2",
   "metadata": {},
   "source": [
    "In this notebook, Data Science Tools and Ecosystem are summarized."
   ]
  },
  {
   "cell_type": "markdown",
   "id": "eba6c905-b5f7-4f65-bdbc-54f51af281a1",
   "metadata": {},
   "source": [
    "**Objectives**\n",
    "-List popular languages used in data science\n",
    "-List some commonly used libraries used by data scientists\n",
    "-Create a table of some popular data science tools\n",
    "-Evaluable arithmetic expressions in Python"
   ]
  },
  {
   "cell_type": "markdown",
   "id": "6b5dbd4f-ba8a-49fc-97be-b2a3f95c8f6a",
   "metadata": {},
   "source": [
    "Some of the popular languages that Data Scientists use are:\n",
    "\n",
    "1. Python\n",
    "2. R\n",
    "3. SQL"
   ]
  },
  {
   "cell_type": "markdown",
   "id": "eb8b119e-f1cb-455a-b83e-0549076809f0",
   "metadata": {},
   "source": [
    "Some of the commonly used libraries used by Data Scientists include:\n",
    "1. Pandas\n",
    "2. Numpy\n",
    "3. Matplotlib"
   ]
  },
  {
   "cell_type": "markdown",
   "id": "771b86c7-f9c7-4c3c-b59b-8065d21ee296",
   "metadata": {},
   "source": [
    "|Data Science Tools|\n",
    "|------------------|\n",
    "|Jupyter Lab|\n",
    "|R Studio|\n",
    "|Apache Spark|"
   ]
  },
  {
   "cell_type": "markdown",
   "id": "514d85b4-d2b2-4d5f-962b-07fb0882af6b",
   "metadata": {},
   "source": [
    "### Below are a few examples of evaluating arithmetic expressions in Python"
   ]
  },
  {
   "cell_type": "code",
   "execution_count": 6,
   "id": "8d350863-395b-43b0-bfe9-01e4065c3146",
   "metadata": {},
   "outputs": [
    {
     "data": {
      "text/plain": [
       "17"
      ]
     },
     "execution_count": 6,
     "metadata": {},
     "output_type": "execute_result"
    }
   ],
   "source": [
    "#This a simple arithmetic expression to multiply then add integers\n",
    "(3*4)+5"
   ]
  },
  {
   "cell_type": "code",
   "execution_count": 5,
   "id": "9b7bef46-fd80-4cdd-917e-66e7f7086d62",
   "metadata": {},
   "outputs": [
    {
     "name": "stdout",
     "output_type": "stream",
     "text": [
      "200 minutes is equal to: 3.3333333333333335 hours\n"
     ]
    }
   ],
   "source": [
    "#This will convert 200 minutes into hours by dividing by 60\n",
    "minutes = 200\n",
    "hours = minutes / 60\n",
    "print(minutes, \"minutes is equal to:\", hours, \"hours\")"
   ]
  },
  {
   "cell_type": "markdown",
   "id": "9c857acb-ae54-4459-8805-ed20ce5a30e3",
   "metadata": {},
   "source": [
    "## Author\n",
    "Saikrishna Sunkara"
   ]
  }
 ],
 "metadata": {
  "kernelspec": {
   "display_name": "Python 3 (ipykernel)",
   "language": "python",
   "name": "python3"
  },
  "language_info": {
   "codemirror_mode": {
    "name": "ipython",
    "version": 3
   },
   "file_extension": ".py",
   "mimetype": "text/x-python",
   "name": "python",
   "nbconvert_exporter": "python",
   "pygments_lexer": "ipython3",
   "version": "3.12.8"
  }
 },
 "nbformat": 4,
 "nbformat_minor": 5
}
